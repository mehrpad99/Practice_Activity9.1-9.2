{
  "cells": [
    {
      "cell_type": "code",
      "execution_count": 2,
      "metadata": {},
      "outputs": [],
      "source": [
        "import pandas as pd\n",
        "from sklearn.pipeline import Pipeline\n",
        "from sklearn.neighbors import KNeighborsClassifier\n",
        "from sklearn.tree import DecisionTreeClassifier\n",
        "from sklearn.linear_model import LogisticRegression"
      ]
    },
    {
      "cell_type": "markdown",
      "metadata": {
        "id": "F9uql3um69hP"
      },
      "source": [
        "## The Data\n",
        "\n",
        "At this link, you will find a dataset containing information about heart disease patients: https://www.dropbox.com/scl/fi/0vrpdnq5asmeulc4gd50y/ha_1.csv?rlkey=ciisalceotl77ffqhqe3kujzv&dl=1\n",
        "\n",
        "A description of the original dataset can be found here: https://archive.ics.uci.edu/dataset/45/heart+disease (However, this dataset has been cleaned and reduced, and the people have been given fictious names.)"
      ]
    },
    {
      "cell_type": "code",
      "execution_count": null,
      "metadata": {},
      "outputs": [],
      "source": [
        "df = pd.read_csv(\"C:/Users/mehrp/OneDrive/Desktop/Courses/Fall23/MachineLearning/Notes/magic04.data\", names=cols) \n",
        "df.head()"
      ]
    },
    {
      "cell_type": "markdown",
      "metadata": {
        "id": "O6wa9AzG7xHW"
      },
      "source": [
        "## 1. Logistic Regression\n",
        "\n",
        "Fit a Logistic Regression using only `age` and `chol` (cholesterol) as predictors.\n",
        "\n",
        "For a 55 year old, how high would their cholesterol need to be for the doctors to predict heart disease is present?\n",
        "\n",
        "How high for the doctors to estimate a 90% chance that heart disease is present?"
      ]
    },
    {
      "cell_type": "code",
      "execution_count": 1,
      "metadata": {
        "id": "jc13Bmcr6Rzz"
      },
      "outputs": [],
      "source": []
    },
    {
      "cell_type": "markdown",
      "metadata": {
        "id": "t6Gfcspn9EYy"
      },
      "source": [
        "## 2. Linear Discriminant Analysis\n",
        "\n",
        "Fit an LDA model using only `age` and `chol` (cholesterol)  as predictors.\n",
        "\n",
        "For a 55 year old, how high would their cholesterol need to be for the doctors to predict heart disease is present?"
      ]
    },
    {
      "cell_type": "code",
      "execution_count": null,
      "metadata": {
        "id": "xEE5FPAs9S29"
      },
      "outputs": [],
      "source": []
    },
    {
      "cell_type": "markdown",
      "metadata": {
        "id": "RdRR4Evq9THQ"
      },
      "source": [
        "## 3. Support Vector Classifier\n",
        "\n",
        "Fit an SVC model using only `age` and `chol` as predictors.  Don't forget to tune the regularization parameter.\n",
        "\n",
        "For a 55 year old, how high would their cholesterol need to be for the doctors to predict heart disease is present?"
      ]
    },
    {
      "cell_type": "code",
      "execution_count": null,
      "metadata": {
        "id": "QM0zJ8JN9XS9"
      },
      "outputs": [],
      "source": []
    },
    {
      "cell_type": "markdown",
      "metadata": {
        "id": "badaMBzw-MsM"
      },
      "source": [
        "## 4. Comparing Decision Boundaries\n",
        "\n",
        "Make a scatterplot of `age` and `chol`, coloring the points by their true disease outcome.  Add a line to the plot representing the **linear separator** (aka **decision boundary**) for each of the three models above."
      ]
    },
    {
      "cell_type": "code",
      "execution_count": null,
      "metadata": {
        "id": "vVZJwn9s-enf"
      },
      "outputs": [],
      "source": []
    }
  ],
  "metadata": {
    "colab": {
      "provenance": []
    },
    "kernelspec": {
      "display_name": "Python 3",
      "name": "python3"
    },
    "language_info": {
      "codemirror_mode": {
        "name": "ipython",
        "version": 3
      },
      "file_extension": ".py",
      "mimetype": "text/x-python",
      "name": "python",
      "nbconvert_exporter": "python",
      "pygments_lexer": "ipython3",
      "version": "3.11.5"
    }
  },
  "nbformat": 4,
  "nbformat_minor": 0
}
